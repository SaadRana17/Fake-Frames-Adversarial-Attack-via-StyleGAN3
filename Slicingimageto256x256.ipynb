{
 "cells": [
  {
   "cell_type": "code",
   "execution_count": 2,
   "id": "6a2c6d5d",
   "metadata": {},
   "outputs": [
    {
     "data": {
      "text/plain": [
       "'/Users/user'"
      ]
     },
     "execution_count": 2,
     "metadata": {},
     "output_type": "execute_result"
    }
   ],
   "source": [
    "pwd"
   ]
  },
  {
   "cell_type": "code",
   "execution_count": 13,
   "id": "2e9bf22d",
   "metadata": {},
   "outputs": [
    {
     "name": "stdout",
     "output_type": "stream",
     "text": [
      "\u001b[34mSynthetic\u001b[m\u001b[m/\r\n",
      "events.out.tfevents.1678773164.559a65289c7c.2754.0\r\n",
      "fakes000000.png\r\n",
      "fakes000040.png\r\n",
      "fakes000080.png\r\n",
      "fakes_init.png\r\n",
      "log.txt\r\n",
      "metric-fid50k_full.jsonl\r\n",
      "network-snapshot-000000.pkl\r\n",
      "network-snapshot-000040.pkl\r\n",
      "network-snapshot-000080.pkl\r\n",
      "reals.png\r\n",
      "stats.jsonl\r\n",
      "training_options.json\r\n"
     ]
    }
   ],
   "source": [
    "ls"
   ]
  },
  {
   "cell_type": "code",
   "execution_count": 14,
   "id": "83e3d926",
   "metadata": {},
   "outputs": [
    {
     "name": "stdout",
     "output_type": "stream",
     "text": [
      "/Users/user/Downloads/gan/experiments/00000-dataset-auto1/Synthetic\n"
     ]
    }
   ],
   "source": [
    "cd Synthetic"
   ]
  },
  {
   "cell_type": "code",
   "execution_count": 15,
   "id": "fcfd48b2",
   "metadata": {},
   "outputs": [],
   "source": [
    "from PIL import Image\n",
    "\n",
    "# Load the original image\n",
    "img = Image.open(\"/Users/user/Downloads/gan/experiments/00000-dataset-auto1/fakes000080.png\")\n",
    "\n",
    "# Define the size of the subimages\n",
    "subimg_size = 256\n",
    "\n",
    "# Calculate the number of subimages in each direction\n",
    "num_subimg_x = img.width // subimg_size\n",
    "num_subimg_y = img.height // subimg_size\n",
    "\n",
    "# Loop through each subimage and extract it\n",
    "for i in range(num_subimg_x):\n",
    "    for j in range(num_subimg_y):\n",
    "        # Calculate the coordinates of the subimage\n",
    "        left = i * subimg_size\n",
    "        top = j * subimg_size\n",
    "        right = left + subimg_size\n",
    "        bottom = top + subimg_size\n",
    "        \n",
    "        # Extract the subimage\n",
    "        subimg = img.crop((left, top, right, bottom))\n",
    "        \n",
    "        # Save the subimage\n",
    "        subimg.save(f\"/Users/user/Downloads/gan/experiments/00000-dataset-auto1/Synthetic/output_{i}_{j}.jpg\")\n"
   ]
  },
  {
   "cell_type": "code",
   "execution_count": null,
   "id": "82153d24",
   "metadata": {},
   "outputs": [],
   "source": []
  }
 ],
 "metadata": {
  "kernelspec": {
   "display_name": "Python 3 (ipykernel)",
   "language": "python",
   "name": "python3"
  },
  "language_info": {
   "codemirror_mode": {
    "name": "ipython",
    "version": 3
   },
   "file_extension": ".py",
   "mimetype": "text/x-python",
   "name": "python",
   "nbconvert_exporter": "python",
   "pygments_lexer": "ipython3",
   "version": "3.9.12"
  }
 },
 "nbformat": 4,
 "nbformat_minor": 5
}
