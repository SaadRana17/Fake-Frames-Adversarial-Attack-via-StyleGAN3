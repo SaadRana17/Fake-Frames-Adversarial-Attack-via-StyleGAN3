{
  "nbformat": 4,
  "nbformat_minor": 0,
  "metadata": {
    "colab": {
      "provenance": []
    },
    "kernelspec": {
      "name": "python3",
      "display_name": "Python 3"
    },
    "language_info": {
      "name": "python"
    },
    "accelerator": "GPU",
    "gpuClass": "standard"
  },
  "cells": [
    {
      "cell_type": "code",
      "execution_count": 1,
      "metadata": {
        "colab": {
          "base_uri": "https://localhost:8080/",
          "height": 35
        },
        "id": "fqWUppsSUE9R",
        "outputId": "ad5147d1-7102-4ace-845a-fef08a820dd6"
      },
      "outputs": [
        {
          "output_type": "execute_result",
          "data": {
            "text/plain": [
              "'/content'"
            ],
            "application/vnd.google.colaboratory.intrinsic+json": {
              "type": "string"
            }
          },
          "metadata": {},
          "execution_count": 1
        }
      ],
      "source": [
        "pwd"
      ]
    },
    {
      "cell_type": "code",
      "source": [
        "%load_ext autoreload\n",
        "%autoreload 2"
      ],
      "metadata": {
        "id": "DzWx1sxGUHus"
      },
      "execution_count": 2,
      "outputs": []
    },
    {
      "cell_type": "code",
      "source": [
        "# In this I'm attaching my google drive to the \n",
        "# It requires authentication from account\n",
        "import warnings\n",
        "warnings.filterwarnings('ignore')\n",
        "from google.colab import drive\n",
        "drive.mount('/content/gdrive')"
      ],
      "metadata": {
        "id": "-lna3UGuUUIX",
        "colab": {
          "base_uri": "https://localhost:8080/"
        },
        "outputId": "e1c04443-a331-445a-9a51-87a8e2874e6f"
      },
      "execution_count": 3,
      "outputs": [
        {
          "output_type": "stream",
          "name": "stdout",
          "text": [
            "Mounted at /content/gdrive\n"
          ]
        }
      ]
    },
    {
      "cell_type": "code",
      "source": [
        "ls"
      ],
      "metadata": {
        "id": "kXB8v5DpUn5T",
        "colab": {
          "base_uri": "https://localhost:8080/"
        },
        "outputId": "75ff6c78-fb0d-49cc-d581-2b93eadcb0f5"
      },
      "execution_count": 4,
      "outputs": [
        {
          "output_type": "stream",
          "name": "stdout",
          "text": [
            "\u001b[0m\u001b[01;34mgdrive\u001b[0m/  \u001b[01;34msample_data\u001b[0m/\n"
          ]
        }
      ]
    },
    {
      "cell_type": "code",
      "source": [
        "cd /content/gdrive/MyDrive/face_recog/face-detection"
      ],
      "metadata": {
        "colab": {
          "base_uri": "https://localhost:8080/"
        },
        "id": "6-OwfzcyUVjB",
        "outputId": "0605fe28-4fce-4eb6-9c8f-d2c01d84d5f3"
      },
      "execution_count": 5,
      "outputs": [
        {
          "output_type": "stream",
          "name": "stdout",
          "text": [
            "/content/gdrive/MyDrive/face_recog/face-detection\n"
          ]
        }
      ]
    },
    {
      "cell_type": "code",
      "source": [
        "%cd face-detection/"
      ],
      "metadata": {
        "colab": {
          "base_uri": "https://localhost:8080/"
        },
        "id": "muZkMcP2UddV",
        "outputId": "41947b25-b9bd-477c-d187-219f0b5724ce"
      },
      "execution_count": 6,
      "outputs": [
        {
          "output_type": "stream",
          "name": "stdout",
          "text": [
            "[Errno 2] No such file or directory: 'face-detection/'\n",
            "/content/gdrive/MyDrive/face_recog/face-detection\n"
          ]
        }
      ]
    },
    {
      "cell_type": "code",
      "source": [
        "# Importing all the required library and also facebox to verify the installation\n",
        "import os\n",
        "os.environ['CUDA_VISIBLE_DEVICES'] = '0,1'\n",
        "import numpy as np\n",
        "from PIL import Image, ImageDraw\n",
        "import os\n",
        "import cv2\n",
        "import time\n",
        "from face_detector import FaceDetector"
      ],
      "metadata": {
        "colab": {
          "base_uri": "https://localhost:8080/"
        },
        "id": "X1aGqlsLVCUu",
        "outputId": "9e0563b2-1480-4bc5-9d8b-86dbfa690fe1"
      },
      "execution_count": 7,
      "outputs": [
        {
          "output_type": "stream",
          "name": "stderr",
          "text": [
            "WARNING:tensorflow:From /usr/local/lib/python3.9/dist-packages/tensorflow/python/compat/v2_compat.py:107: disable_resource_variables (from tensorflow.python.ops.variable_scope) is deprecated and will be removed in a future version.\n",
            "Instructions for updating:\n",
            "non-resource variables are not supported in the long term\n"
          ]
        }
      ]
    },
    {
      "cell_type": "code",
      "source": [
        "cd .."
      ],
      "metadata": {
        "colab": {
          "base_uri": "https://localhost:8080/"
        },
        "id": "MfNrZfC_V185",
        "outputId": "eb9358c4-7cf1-452f-bec3-4f53ce67780b"
      },
      "execution_count": 10,
      "outputs": [
        {
          "output_type": "stream",
          "name": "stdout",
          "text": [
            "/content/gdrive/MyDrive/face_recog\n"
          ]
        }
      ]
    },
    {
      "cell_type": "code",
      "source": [
        "pwd"
      ],
      "metadata": {
        "colab": {
          "base_uri": "https://localhost:8080/",
          "height": 35
        },
        "id": "XnYeYq21jIJv",
        "outputId": "4d7e5a64-d57c-4692-8f83-21c2df4f0691"
      },
      "execution_count": 9,
      "outputs": [
        {
          "output_type": "execute_result",
          "data": {
            "text/plain": [
              "'/content/gdrive/MyDrive/face_recog/face-detection'"
            ],
            "application/vnd.google.colaboratory.intrinsic+json": {
              "type": "string"
            }
          },
          "metadata": {},
          "execution_count": 9
        }
      ]
    },
    {
      "cell_type": "code",
      "source": [
        "## Providing path for pretrained model of facebox\n",
        "MODEL_PATH = 'model.pb'\n",
        "face_detector = FaceDetector(MODEL_PATH, gpu_memory_fraction=0.75, visible_device_list='0')\n",
        "## Gpu memory can be adjusted by using gpu_memory_fraction parameters"
      ],
      "metadata": {
        "id": "FjD2XTpyVEo_"
      },
      "execution_count": 11,
      "outputs": []
    },
    {
      "cell_type": "code",
      "source": [
        "pwd"
      ],
      "metadata": {
        "colab": {
          "base_uri": "https://localhost:8080/",
          "height": 35
        },
        "id": "sNmeMucVYAYX",
        "outputId": "4285425c-3856-49dc-d8dd-435eea44b452"
      },
      "execution_count": 13,
      "outputs": [
        {
          "output_type": "execute_result",
          "data": {
            "text/plain": [
              "'/content/gdrive/MyDrive/face_recog'"
            ],
            "application/vnd.google.colaboratory.intrinsic+json": {
              "type": "string"
            }
          },
          "metadata": {},
          "execution_count": 13
        }
      ]
    },
    {
      "cell_type": "code",
      "source": [
        "## Darawing boxes around the face present in the image\n",
        "## Confidence score indicates how sure model is in recosgnising faces\n",
        "def draw_boxes_on_image_t(image, boxes, scores):\n",
        "\n",
        "    image_copy = image.copy()\n",
        "    draw = ImageDraw.Draw(image_copy, 'RGBA')\n",
        "    width, height = image.size\n",
        "    print('Recieve boxes', boxes)\n",
        "    print('Recive answer', scores)\n",
        "    #print('Type of score', type(scores))\n",
        "    for b, s in zip(boxes, scores):\n",
        "        ymin, xmin, ymax, xmax = b\n",
        "        #print('b', b[])\n",
        "        fill = (255, 0, 0, 45)\n",
        "        outline = 'red'\n",
        "        draw.rectangle(\n",
        "            [(xmin, ymin), (xmax, ymax)],\n",
        "            fill=fill, outline=outline\n",
        "        )\n",
        "        #draw.text((xmin, ymin), text='{:.3f}'.format(s))\n",
        "        \n",
        "        txt = str(scores)\n",
        "        #print('Type of txt', type(txt))\n",
        "        draw.text((xmin, ymin), text=txt)\n",
        "        \n",
        "    return image_copy.resize(required_size)"
      ],
      "metadata": {
        "id": "owTPt1AaZwTm"
      },
      "execution_count": 14,
      "outputs": []
    },
    {
      "cell_type": "code",
      "source": [
        "## Darawing boxes around the face present in the image\n",
        "## Confidence score indicates how sure model is in recosgnising faces\n",
        "def draw_boxes_on_image_cv(image, boxes, scores):\n",
        "\n",
        "    image_copy = image.copy()\n",
        "    image_copy = np.array(image_copy)\n",
        "    #image_copy = cv2.cvtColor(image_copy,cv2.COLOR_RGB2BGR)\n",
        "    #image_copy = cv2.cvtColor(image_copy,cv2.COLOR_RGB2BGR)\n",
        "\n",
        "    #draw = ImageDraw.Draw(image_copy, 'RGBA')\n",
        "    width, height = image.size\n",
        "    print('Recieve cv boxes', boxes)\n",
        "    print('Recive cv answer', scores)\n",
        "    #print('Type of score', type(scores))\n",
        "    for b, s in zip(boxes, scores):\n",
        "        ymin, xmin, ymax, xmax = b\n",
        "        color = (255, 0, 0, 45)\n",
        "        outline = 'red'\n",
        "        thickness = 2\n",
        "        cv2.rectangle(image_copy,(int(xmin), int(ymin)),(int(xmax), int(ymax)), color,thickness )\n",
        "        fontFace = cv2.FONT_HERSHEY_SIMPLEX\n",
        "        fontScale = 1\n",
        "        fontColor = (255,255,255)\n",
        "        print('Recive cv answer in loop', scores)\n",
        "        cv2.putText(image_copy, str(scores), (int(xmin), int(ymin)), fontFace,fontScale,fontColor)\n",
        "        #image_copy = cv2.cvtColor(image_copy,cv2.COLOR_BGR2RGB)\n",
        "        #image_copy = cv2.cvtColor(image_copy,cv2.COLOR_RGB2BGR)\n",
        "        \n",
        "    cv2_imshow(image_copy)\n",
        "        \n",
        "        \n",
        "    return image_copy.resize(required_size)"
      ],
      "metadata": {
        "id": "hoTtUNf8Z0Js"
      },
      "execution_count": 15,
      "outputs": []
    },
    {
      "cell_type": "code",
      "source": [
        "# demonstrate face detection on multiple faces at same time\n",
        "# in this we are not drawing rectangle around faces, we are extracting the\n",
        "# pixels of faces so that later these values can be used as input to our facenet model\n",
        "# we can scale our images using required_size parameter\n",
        "import cv2\n",
        "from os import listdir\n",
        "from PIL import Image\n",
        "from numpy import asarray\n",
        "from matplotlib import pyplot\n",
        "\n",
        "# function to extract a single face from a given photograph\n",
        "# This functions returns the array of pixel values of face\n",
        "\n",
        "\n",
        "\n",
        "\n",
        "\n",
        "def extract_face(filename, required_size=(256, 256)):\n",
        "\t# load image from file\n",
        "\timage = Image.open(filename)\n",
        "\t# convert to RGB, if needed\n",
        "\timage = image.convert('RGB')\n",
        "\t# convert to array\n",
        "\tpixels = asarray(image)\n",
        "\t# detect faces in the image using facebox pretrained model\n",
        "\t# Keep thresold low to avoid errors in coming \n",
        "\tresults = face_detector(pixels,score_threshold=0.3)\n",
        "\t# extract the bounding box from the first face \n",
        "  # If multiple face is present this function can be modified\n",
        "\ty1, x1, y2, x2 = results[0][0]\n",
        "\t# changing values into integers because there are some float values as well \n",
        "\tx1, y1,x2,y2 = int(x1), int(y1),int(x2), int(y2)\n",
        "\t\n",
        "\t# extract the face using list slicing \n",
        "\tface = pixels[y1:y2, x1:x2]\n",
        "\t# resize pixels to the model size\n",
        "\timage = Image.fromarray(face)\n",
        "\timage = image.resize(required_size)\n",
        "\tface_array = asarray(image)\n",
        "\treturn face_array\n",
        "\n",
        "# specify image folder to plot\n",
        "#folder = '/content/gdrive/MyDrive/Colab_Notebooks/face_recog/data2/data2/train/shahid/'\n",
        "folder = '/content/gdrive/MyDrive/DG_ISPR_Snaps/'\n",
        "i = 1\n",
        "# enumerate all the files and show the image(only faces)\n",
        "for filename in listdir(folder):\n",
        "  # path\n",
        "  path = folder + filename\n",
        "  # get face\n",
        "  face = extract_face(path)\n",
        "  print(i, face.shape)\n",
        "  cv2.imwrite(f\"/content/gdrive/MyDrive/cropped_images/frame{i}.jpg\", face[:,:,::-1])\n",
        "  pyplot.subplot(20, 10, i)\n",
        "  pyplot.axis('off')\n",
        "  pyplot.imshow(face)\n",
        "  i += 1\n",
        "\n",
        "\n",
        "\n",
        "pyplot.show()\n",
        "\n"
      ],
      "metadata": {
        "colab": {
          "base_uri": "https://localhost:8080/",
          "height": 1000
        },
        "id": "AzhkvnAUYXIf",
        "outputId": "c151ca09-be44-42f9-ac12-87e6b795175d"
      },
      "execution_count": 19,
      "outputs": [
        {
          "output_type": "stream",
          "name": "stdout",
          "text": [
            "1 (256, 256, 3)\n",
            "2 (256, 256, 3)\n",
            "3 (256, 256, 3)\n",
            "4 (256, 256, 3)\n",
            "5 (256, 256, 3)\n",
            "6 (256, 256, 3)\n",
            "7 (256, 256, 3)\n",
            "8 (256, 256, 3)\n",
            "9 (256, 256, 3)\n",
            "10 (256, 256, 3)\n",
            "11 (256, 256, 3)\n",
            "12 (256, 256, 3)\n",
            "13 (256, 256, 3)\n",
            "14 (256, 256, 3)\n",
            "15 (256, 256, 3)\n",
            "16 (256, 256, 3)\n",
            "17 (256, 256, 3)\n",
            "18 (256, 256, 3)\n",
            "19 (256, 256, 3)\n",
            "20 (256, 256, 3)\n",
            "21 (256, 256, 3)\n",
            "22 (256, 256, 3)\n",
            "23 (256, 256, 3)\n",
            "24 (256, 256, 3)\n",
            "25 (256, 256, 3)\n",
            "26 (256, 256, 3)\n",
            "27 (256, 256, 3)\n",
            "28 (256, 256, 3)\n",
            "29 (256, 256, 3)\n",
            "30 (256, 256, 3)\n",
            "31 (256, 256, 3)\n",
            "32 (256, 256, 3)\n",
            "33 (256, 256, 3)\n",
            "34 (256, 256, 3)\n",
            "35 (256, 256, 3)\n",
            "36 (256, 256, 3)\n",
            "37 (256, 256, 3)\n",
            "38 (256, 256, 3)\n",
            "39 (256, 256, 3)\n",
            "40 (256, 256, 3)\n",
            "41 (256, 256, 3)\n",
            "42 (256, 256, 3)\n",
            "43 (256, 256, 3)\n",
            "44 (256, 256, 3)\n",
            "45 (256, 256, 3)\n",
            "46 (256, 256, 3)\n",
            "47 (256, 256, 3)\n",
            "48 (256, 256, 3)\n",
            "49 (256, 256, 3)\n",
            "50 (256, 256, 3)\n",
            "51 (256, 256, 3)\n",
            "52 (256, 256, 3)\n",
            "53 (256, 256, 3)\n",
            "54 (256, 256, 3)\n",
            "55 (256, 256, 3)\n",
            "56 (256, 256, 3)\n",
            "57 (256, 256, 3)\n",
            "58 (256, 256, 3)\n",
            "59 (256, 256, 3)\n",
            "60 (256, 256, 3)\n",
            "61 (256, 256, 3)\n",
            "62 (256, 256, 3)\n",
            "63 (256, 256, 3)\n",
            "64 (256, 256, 3)\n",
            "65 (256, 256, 3)\n",
            "66 (256, 256, 3)\n",
            "67 (256, 256, 3)\n",
            "68 (256, 256, 3)\n",
            "69 (256, 256, 3)\n",
            "70 (256, 256, 3)\n",
            "71 (256, 256, 3)\n",
            "72 (256, 256, 3)\n",
            "73 (256, 256, 3)\n",
            "74 (256, 256, 3)\n",
            "75 (256, 256, 3)\n",
            "76 (256, 256, 3)\n",
            "77 (256, 256, 3)\n",
            "78 (256, 256, 3)\n",
            "79 (256, 256, 3)\n",
            "80 (256, 256, 3)\n",
            "81 (256, 256, 3)\n",
            "82 (256, 256, 3)\n",
            "83 (256, 256, 3)\n",
            "84 (256, 256, 3)\n",
            "85 (256, 256, 3)\n",
            "86 (256, 256, 3)\n",
            "87 (256, 256, 3)\n",
            "88 (256, 256, 3)\n",
            "89 (256, 256, 3)\n",
            "90 (256, 256, 3)\n",
            "91 (256, 256, 3)\n",
            "92 (256, 256, 3)\n",
            "93 (256, 256, 3)\n",
            "94 (256, 256, 3)\n",
            "95 (256, 256, 3)\n",
            "96 (256, 256, 3)\n",
            "97 (256, 256, 3)\n",
            "98 (256, 256, 3)\n",
            "99 (256, 256, 3)\n",
            "100 (256, 256, 3)\n",
            "101 (256, 256, 3)\n",
            "102 (256, 256, 3)\n",
            "103 (256, 256, 3)\n",
            "104 (256, 256, 3)\n",
            "105 (256, 256, 3)\n",
            "106 (256, 256, 3)\n",
            "107 (256, 256, 3)\n",
            "108 (256, 256, 3)\n",
            "109 (256, 256, 3)\n",
            "110 (256, 256, 3)\n",
            "111 (256, 256, 3)\n",
            "112 (256, 256, 3)\n",
            "113 (256, 256, 3)\n",
            "114 (256, 256, 3)\n",
            "115 (256, 256, 3)\n",
            "116 (256, 256, 3)\n",
            "117 (256, 256, 3)\n",
            "118 (256, 256, 3)\n",
            "119 (256, 256, 3)\n",
            "120 (256, 256, 3)\n",
            "121 (256, 256, 3)\n",
            "122 (256, 256, 3)\n",
            "123 (256, 256, 3)\n",
            "124 (256, 256, 3)\n",
            "125 (256, 256, 3)\n",
            "126 (256, 256, 3)\n",
            "127 (256, 256, 3)\n",
            "128 (256, 256, 3)\n",
            "129 (256, 256, 3)\n",
            "130 (256, 256, 3)\n",
            "131 (256, 256, 3)\n",
            "132 (256, 256, 3)\n",
            "133 (256, 256, 3)\n",
            "134 (256, 256, 3)\n",
            "135 (256, 256, 3)\n",
            "136 (256, 256, 3)\n",
            "137 (256, 256, 3)\n",
            "138 (256, 256, 3)\n",
            "139 (256, 256, 3)\n",
            "140 (256, 256, 3)\n",
            "141 (256, 256, 3)\n",
            "142 (256, 256, 3)\n",
            "143 (256, 256, 3)\n",
            "144 (256, 256, 3)\n",
            "145 (256, 256, 3)\n",
            "146 (256, 256, 3)\n",
            "147 (256, 256, 3)\n",
            "148 (256, 256, 3)\n",
            "149 (256, 256, 3)\n",
            "150 (256, 256, 3)\n",
            "151 (256, 256, 3)\n",
            "152 (256, 256, 3)\n",
            "153 (256, 256, 3)\n",
            "154 (256, 256, 3)\n",
            "155 (256, 256, 3)\n",
            "156 (256, 256, 3)\n",
            "157 (256, 256, 3)\n",
            "158 (256, 256, 3)\n",
            "159 (256, 256, 3)\n",
            "160 (256, 256, 3)\n",
            "161 (256, 256, 3)\n",
            "162 (256, 256, 3)\n",
            "163 (256, 256, 3)\n",
            "164 (256, 256, 3)\n",
            "165 (256, 256, 3)\n",
            "166 (256, 256, 3)\n",
            "167 (256, 256, 3)\n",
            "168 (256, 256, 3)\n",
            "169 (256, 256, 3)\n",
            "170 (256, 256, 3)\n",
            "171 (256, 256, 3)\n",
            "172 (256, 256, 3)\n",
            "173 (256, 256, 3)\n",
            "174 (256, 256, 3)\n",
            "175 (256, 256, 3)\n",
            "176 (256, 256, 3)\n",
            "177 (256, 256, 3)\n",
            "178 (256, 256, 3)\n",
            "179 (256, 256, 3)\n",
            "180 (256, 256, 3)\n",
            "181 (256, 256, 3)\n",
            "182 (256, 256, 3)\n",
            "183 (256, 256, 3)\n",
            "184 (256, 256, 3)\n",
            "185 (256, 256, 3)\n",
            "186 (256, 256, 3)\n",
            "187 (256, 256, 3)\n",
            "188 (256, 256, 3)\n",
            "189 (256, 256, 3)\n",
            "190 (256, 256, 3)\n",
            "191 (256, 256, 3)\n",
            "192 (256, 256, 3)\n",
            "193 (256, 256, 3)\n",
            "194 (256, 256, 3)\n",
            "195 (256, 256, 3)\n",
            "196 (256, 256, 3)\n",
            "197 (256, 256, 3)\n",
            "198 (256, 256, 3)\n",
            "199 (256, 256, 3)\n",
            "200 (256, 256, 3)\n",
            "201 (256, 256, 3)\n"
          ]
        },
        {
          "output_type": "error",
          "ename": "ValueError",
          "evalue": "ignored",
          "traceback": [
            "\u001b[0;31m---------------------------------------------------------------------------\u001b[0m",
            "\u001b[0;31mValueError\u001b[0m                                Traceback (most recent call last)",
            "\u001b[0;32m<ipython-input-19-75f76936453f>\u001b[0m in \u001b[0;36m<module>\u001b[0;34m\u001b[0m\n\u001b[1;32m     52\u001b[0m   \u001b[0mprint\u001b[0m\u001b[0;34m(\u001b[0m\u001b[0mi\u001b[0m\u001b[0;34m,\u001b[0m \u001b[0mface\u001b[0m\u001b[0;34m.\u001b[0m\u001b[0mshape\u001b[0m\u001b[0;34m)\u001b[0m\u001b[0;34m\u001b[0m\u001b[0;34m\u001b[0m\u001b[0m\n\u001b[1;32m     53\u001b[0m   \u001b[0mcv2\u001b[0m\u001b[0;34m.\u001b[0m\u001b[0mimwrite\u001b[0m\u001b[0;34m(\u001b[0m\u001b[0;34mf\"/content/gdrive/MyDrive/cropped_images/frame{i}.jpg\"\u001b[0m\u001b[0;34m,\u001b[0m \u001b[0mface\u001b[0m\u001b[0;34m[\u001b[0m\u001b[0;34m:\u001b[0m\u001b[0;34m,\u001b[0m\u001b[0;34m:\u001b[0m\u001b[0;34m,\u001b[0m\u001b[0;34m:\u001b[0m\u001b[0;34m:\u001b[0m\u001b[0;34m-\u001b[0m\u001b[0;36m1\u001b[0m\u001b[0;34m]\u001b[0m\u001b[0;34m)\u001b[0m\u001b[0;34m\u001b[0m\u001b[0;34m\u001b[0m\u001b[0m\n\u001b[0;32m---> 54\u001b[0;31m   \u001b[0mpyplot\u001b[0m\u001b[0;34m.\u001b[0m\u001b[0msubplot\u001b[0m\u001b[0;34m(\u001b[0m\u001b[0;36m20\u001b[0m\u001b[0;34m,\u001b[0m \u001b[0;36m10\u001b[0m\u001b[0;34m,\u001b[0m \u001b[0mi\u001b[0m\u001b[0;34m)\u001b[0m\u001b[0;34m\u001b[0m\u001b[0;34m\u001b[0m\u001b[0m\n\u001b[0m\u001b[1;32m     55\u001b[0m   \u001b[0mpyplot\u001b[0m\u001b[0;34m.\u001b[0m\u001b[0maxis\u001b[0m\u001b[0;34m(\u001b[0m\u001b[0;34m'off'\u001b[0m\u001b[0;34m)\u001b[0m\u001b[0;34m\u001b[0m\u001b[0;34m\u001b[0m\u001b[0m\n\u001b[1;32m     56\u001b[0m   \u001b[0mpyplot\u001b[0m\u001b[0;34m.\u001b[0m\u001b[0mimshow\u001b[0m\u001b[0;34m(\u001b[0m\u001b[0mface\u001b[0m\u001b[0;34m)\u001b[0m\u001b[0;34m\u001b[0m\u001b[0;34m\u001b[0m\u001b[0m\n",
            "\u001b[0;32m/usr/local/lib/python3.9/dist-packages/matplotlib/pyplot.py\u001b[0m in \u001b[0;36msubplot\u001b[0;34m(*args, **kwargs)\u001b[0m\n\u001b[1;32m   1285\u001b[0m \u001b[0;34m\u001b[0m\u001b[0m\n\u001b[1;32m   1286\u001b[0m     \u001b[0;31m# First, search for an existing subplot with a matching spec.\u001b[0m\u001b[0;34m\u001b[0m\u001b[0;34m\u001b[0m\u001b[0m\n\u001b[0;32m-> 1287\u001b[0;31m     \u001b[0mkey\u001b[0m \u001b[0;34m=\u001b[0m \u001b[0mSubplotSpec\u001b[0m\u001b[0;34m.\u001b[0m\u001b[0m_from_subplot_args\u001b[0m\u001b[0;34m(\u001b[0m\u001b[0mfig\u001b[0m\u001b[0;34m,\u001b[0m \u001b[0margs\u001b[0m\u001b[0;34m)\u001b[0m\u001b[0;34m\u001b[0m\u001b[0;34m\u001b[0m\u001b[0m\n\u001b[0m\u001b[1;32m   1288\u001b[0m \u001b[0;34m\u001b[0m\u001b[0m\n\u001b[1;32m   1289\u001b[0m     \u001b[0;32mfor\u001b[0m \u001b[0max\u001b[0m \u001b[0;32min\u001b[0m \u001b[0mfig\u001b[0m\u001b[0;34m.\u001b[0m\u001b[0maxes\u001b[0m\u001b[0;34m:\u001b[0m\u001b[0;34m\u001b[0m\u001b[0;34m\u001b[0m\u001b[0m\n",
            "\u001b[0;32m/usr/local/lib/python3.9/dist-packages/matplotlib/gridspec.py\u001b[0m in \u001b[0;36m_from_subplot_args\u001b[0;34m(figure, args)\u001b[0m\n\u001b[1;32m    606\u001b[0m         \u001b[0;32melse\u001b[0m\u001b[0;34m:\u001b[0m\u001b[0;34m\u001b[0m\u001b[0;34m\u001b[0m\u001b[0m\n\u001b[1;32m    607\u001b[0m             \u001b[0;32mif\u001b[0m \u001b[0;32mnot\u001b[0m \u001b[0misinstance\u001b[0m\u001b[0;34m(\u001b[0m\u001b[0mnum\u001b[0m\u001b[0;34m,\u001b[0m \u001b[0mIntegral\u001b[0m\u001b[0;34m)\u001b[0m \u001b[0;32mor\u001b[0m \u001b[0mnum\u001b[0m \u001b[0;34m<\u001b[0m \u001b[0;36m1\u001b[0m \u001b[0;32mor\u001b[0m \u001b[0mnum\u001b[0m \u001b[0;34m>\u001b[0m \u001b[0mrows\u001b[0m\u001b[0;34m*\u001b[0m\u001b[0mcols\u001b[0m\u001b[0;34m:\u001b[0m\u001b[0;34m\u001b[0m\u001b[0;34m\u001b[0m\u001b[0m\n\u001b[0;32m--> 608\u001b[0;31m                 raise ValueError(\n\u001b[0m\u001b[1;32m    609\u001b[0m                     f\"num must be 1 <= num <= {rows*cols}, not {num!r}\")\n\u001b[1;32m    610\u001b[0m             \u001b[0mi\u001b[0m \u001b[0;34m=\u001b[0m \u001b[0mj\u001b[0m \u001b[0;34m=\u001b[0m \u001b[0mnum\u001b[0m\u001b[0;34m\u001b[0m\u001b[0;34m\u001b[0m\u001b[0m\n",
            "\u001b[0;31mValueError\u001b[0m: num must be 1 <= num <= 200, not 201"
          ]
        },
        {
          "output_type": "display_data",
          "data": {
            "text/plain": [
              "<Figure size 432x288 with 200 Axes>"
            ],
            "image/png": "[encoded data removed]"
          },
          "metadata": {
            "needs_background": "light"
          }
        }
      ]
    }
  ]
}